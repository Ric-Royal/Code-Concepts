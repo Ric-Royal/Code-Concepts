{
  "nbformat": 4,
  "nbformat_minor": 0,
  "metadata": {
    "colab": {
      "provenance": [],
      "include_colab_link": true
    },
    "kernelspec": {
      "name": "python3",
      "display_name": "Python 3"
    },
    "language_info": {
      "name": "python"
    }
  },
  "cells": [
    {
      "cell_type": "markdown",
      "metadata": {
        "id": "view-in-github",
        "colab_type": "text"
      },
      "source": [
        "<a href=\"https://colab.research.google.com/github/Ric-Royal/Code-Concepts/blob/main/Copy_of_NYC_Taxi_Data.ipynb\" target=\"_parent\"><img src=\"https://colab.research.google.com/assets/colab-badge.svg\" alt=\"Open In Colab\"/></a>"
      ]
    },
    {
      "cell_type": "markdown",
      "source": [
        "# Taxi Fare"
      ],
      "metadata": {
        "id": "cLNOSNcUJ8O-"
      }
    },
    {
      "cell_type": "markdown",
      "source": [
        "## Problem Definition & Data Understanding\n",
        "\n",
        "Objective: Identify key factors influencing taxi fares and understand the dataset's structure.\n",
        "\n",
        "### Key Factors Influencing Taxi Fares:\n",
        "\n",
        "Trip Distance: Longer distances typically result in higher fares.\n",
        "\n",
        "Time of Day: Peak hours may have different fare rates.\n",
        "\n",
        "Day of the Week: Weekends and weekdays might show fare variations.\n",
        "\n",
        "Pickup and Drop-off Locations: Certain areas may have standardized rates or surcharges.\n",
        "\n",
        "Passenger Count: Some fares vary with the number of passengers.\n",
        "\n",
        "Weather Conditions: Adverse weather can affect fare rates due to demand and traffic conditions"
      ],
      "metadata": {
        "id": "eVAT54NHJvwi"
      }
    },
    {
      "cell_type": "markdown",
      "source": [
        "# Data Loading and Understanding"
      ],
      "metadata": {
        "id": "mSgV0RUMB68G"
      }
    },
    {
      "cell_type": "code",
      "source": [
        "# from google.colab import drive\n",
        "# drive.mount('/content/drive')"
      ],
      "metadata": {
        "colab": {
          "base_uri": "https://localhost:8080/"
        },
        "id": "mWvU2jrzFnEq",
        "outputId": "cca13255-d0a4-4ea5-8291-4fbe0dafd70b"
      },
      "execution_count": null,
      "outputs": [
        {
          "output_type": "stream",
          "name": "stdout",
          "text": [
            "Drive already mounted at /content/drive; to attempt to forcibly remount, call drive.mount(\"/content/drive\", force_remount=True).\n"
          ]
        }
      ]
    },
    {
      "cell_type": "code",
      "source": [
        "from pyspark.sql import SparkSession\n",
        "\n",
        "from pyspark.sql import SparkSession\n",
        "\n",
        "# Initialize Spark session\n",
        "spark = SparkSession.builder.appName(\"NYC Taxi Fare Prediction\").getOrCreate()\n",
        "\n",
        "# Load dataset\n",
        "df = spark.read.csv(\"/content/drive/MyDrive/original_cleaned_nyc_taxi_data_2018\", header=True, inferSchema=True)\n",
        "\n"
      ],
      "metadata": {
        "id": "3XcfHs5m-FyC"
      },
      "execution_count": null,
      "outputs": []
    },
    {
      "cell_type": "code",
      "source": [
        "# Display schema and sample data\n",
        "df.printSchema()\n",
        "df.show(5)\n"
      ],
      "metadata": {
        "id": "3GnM8LWvBqwg",
        "colab": {
          "base_uri": "https://localhost:8080/"
        },
        "outputId": "cf0d8125-f4bb-47fc-d3de-8e6d75356257"
      },
      "execution_count": null,
      "outputs": [
        {
          "output_type": "stream",
          "name": "stdout",
          "text": [
            "root\n",
            " |-- _c0: integer (nullable = true)\n",
            " |-- trip_distance: double (nullable = true)\n",
            " |-- rate_code: integer (nullable = true)\n",
            " |-- store_and_fwd_flag: string (nullable = true)\n",
            " |-- payment_type: integer (nullable = true)\n",
            " |-- fare_amount: double (nullable = true)\n",
            " |-- extra: double (nullable = true)\n",
            " |-- mta_tax: double (nullable = true)\n",
            " |-- tip_amount: double (nullable = true)\n",
            " |-- tolls_amount: double (nullable = true)\n",
            " |-- imp_surcharge: double (nullable = true)\n",
            " |-- total_amount: double (nullable = true)\n",
            " |-- pickup_location_id: integer (nullable = true)\n",
            " |-- dropoff_location_id: integer (nullable = true)\n",
            " |-- year: integer (nullable = true)\n",
            " |-- month: integer (nullable = true)\n",
            " |-- day: integer (nullable = true)\n",
            " |-- day_of_week: integer (nullable = true)\n",
            " |-- hour_of_day: integer (nullable = true)\n",
            " |-- trip_duration: double (nullable = true)\n",
            " |-- calculated_total_amount: double (nullable = true)\n",
            "\n",
            "+---+-------------+---------+------------------+------------+-----------+-----+-------+----------+------------+-------------+------------+------------------+-------------------+----+-----+---+-----------+-----------+-------------+-----------------------+\n",
            "|_c0|trip_distance|rate_code|store_and_fwd_flag|payment_type|fare_amount|extra|mta_tax|tip_amount|tolls_amount|imp_surcharge|total_amount|pickup_location_id|dropoff_location_id|year|month|day|day_of_week|hour_of_day|trip_duration|calculated_total_amount|\n",
            "+---+-------------+---------+------------------+------------+-----------+-----+-------+----------+------------+-------------+------------+------------------+-------------------+----+-----+---+-----------+-----------+-------------+-----------------------+\n",
            "|  3|        16.97|        1|                 N|           1|       49.5|  0.0|    0.5|      5.61|        5.76|          0.3|       61.67|               231|                138|2018|    3| 29|          3|         13|       3317.0|     61.669999999999995|\n",
            "|  4|        14.45|        1|                 N|           1|       45.5|  0.0|    0.5|     10.41|        5.76|          0.3|       62.47|                87|                138|2018|    3| 29|          3|         14|       3648.0|      62.46999999999999|\n",
            "|  5|         11.6|        1|                 N|           1|       42.0|  0.0|    0.5|     14.57|        5.76|          0.3|       63.13|                68|                138|2018|    3| 29|          3|         14|       3540.0|     63.129999999999995|\n",
            "| 10|          5.1|        1|                 N|           1|       26.5|  1.0|    0.5|      5.65|         0.0|          0.3|       33.95|               186|                 33|2018|    3| 29|          3|         16|       2585.0|     33.949999999999996|\n",
            "| 12|        11.11|        1|                 N|           1|       45.5|  1.0|    0.5|     10.61|        5.76|          0.3|       63.67|               163|                138|2018|    3| 29|          3|         16|       4521.0|     63.669999999999995|\n",
            "+---+-------------+---------+------------------+------------+-----------+-----+-------+----------+------------+-------------+------------+------------------+-------------------+----+-----+---+-----------+-----------+-------------+-----------------------+\n",
            "only showing top 5 rows\n",
            "\n"
          ]
        }
      ]
    },
    {
      "cell_type": "code",
      "source": [
        "import requests\n",
        "\n",
        "url = \"https://drive.google.com/file/d/1zJkTCPou3GqIymPow6cdsR8NoCcowygP/view?usp=sharing\"  # Modify file ID\n",
        "output_path = \"nyc_taxi_data.csv\"\n",
        "\n",
        "# Download file\n",
        "response = requests.get(url)\n",
        "with open(output_path, \"wb\") as f:\n",
        "    f.write(response.content)\n",
        "\n",
        "# Load into PySpark\n",
        "df = spark.read.csv(output_path, header=True, inferSchema=True)\n"
      ],
      "metadata": {
        "id": "gyV8j5y7H5Ts"
      },
      "execution_count": null,
      "outputs": []
    },
    {
      "cell_type": "code",
      "source": [
        "# Display schema and sample data\n",
        "df.printSchema()\n",
        "df.show(5)"
      ],
      "metadata": {
        "colab": {
          "base_uri": "https://localhost:8080/"
        },
        "id": "ehqdvoJYH_Y7",
        "outputId": "7853b3bf-c8ae-4df9-9d2b-11ffa48dbbbc"
      },
      "execution_count": 16,
      "outputs": [
        {
          "output_type": "stream",
          "name": "stdout",
          "text": [
            "root\n",
            " |-- _c0: integer (nullable = true)\n",
            " |-- trip_distance: double (nullable = true)\n",
            " |-- rate_code: integer (nullable = true)\n",
            " |-- store_and_fwd_flag: string (nullable = true)\n",
            " |-- payment_type: integer (nullable = true)\n",
            " |-- fare_amount: double (nullable = true)\n",
            " |-- extra: double (nullable = true)\n",
            " |-- mta_tax: double (nullable = true)\n",
            " |-- tip_amount: double (nullable = true)\n",
            " |-- tolls_amount: double (nullable = true)\n",
            " |-- imp_surcharge: double (nullable = true)\n",
            " |-- total_amount: double (nullable = true)\n",
            " |-- pickup_location_id: integer (nullable = true)\n",
            " |-- dropoff_location_id: integer (nullable = true)\n",
            " |-- year: integer (nullable = true)\n",
            " |-- month: integer (nullable = true)\n",
            " |-- day: integer (nullable = true)\n",
            " |-- day_of_week: integer (nullable = true)\n",
            " |-- hour_of_day: integer (nullable = true)\n",
            " |-- trip_duration: double (nullable = true)\n",
            " |-- calculated_total_amount: double (nullable = true)\n",
            "\n",
            "+---+-------------+---------+------------------+------------+-----------+-----+-------+----------+------------+-------------+------------+------------------+-------------------+----+-----+---+-----------+-----------+-------------+-----------------------+\n",
            "|_c0|trip_distance|rate_code|store_and_fwd_flag|payment_type|fare_amount|extra|mta_tax|tip_amount|tolls_amount|imp_surcharge|total_amount|pickup_location_id|dropoff_location_id|year|month|day|day_of_week|hour_of_day|trip_duration|calculated_total_amount|\n",
            "+---+-------------+---------+------------------+------------+-----------+-----+-------+----------+------------+-------------+------------+------------------+-------------------+----+-----+---+-----------+-----------+-------------+-----------------------+\n",
            "|  3|        16.97|        1|                 N|           1|       49.5|  0.0|    0.5|      5.61|        5.76|          0.3|       61.67|               231|                138|2018|    3| 29|          3|         13|       3317.0|     61.669999999999995|\n",
            "|  4|        14.45|        1|                 N|           1|       45.5|  0.0|    0.5|     10.41|        5.76|          0.3|       62.47|                87|                138|2018|    3| 29|          3|         14|       3648.0|      62.46999999999999|\n",
            "|  5|         11.6|        1|                 N|           1|       42.0|  0.0|    0.5|     14.57|        5.76|          0.3|       63.13|                68|                138|2018|    3| 29|          3|         14|       3540.0|     63.129999999999995|\n",
            "| 10|          5.1|        1|                 N|           1|       26.5|  1.0|    0.5|      5.65|         0.0|          0.3|       33.95|               186|                 33|2018|    3| 29|          3|         16|       2585.0|     33.949999999999996|\n",
            "| 12|        11.11|        1|                 N|           1|       45.5|  1.0|    0.5|     10.61|        5.76|          0.3|       63.67|               163|                138|2018|    3| 29|          3|         16|       4521.0|     63.669999999999995|\n",
            "+---+-------------+---------+------------------+------------+-----------+-----+-------+----------+------------+-------------+------------+------------------+-------------------+----+-----+---+-----------+-----------+-------------+-----------------------+\n",
            "only showing top 5 rows\n",
            "\n"
          ]
        }
      ]
    }
  ]
}